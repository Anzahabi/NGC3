{
 "cells": [
  {
   "cell_type": "code",
   "execution_count": 10,
   "metadata": {},
   "outputs": [],
   "source": [
    "def CtoK():\n",
    "    C = input('Masukan suhu celcius: ')\n",
    "    C = int(C)\n",
    "    Ck= C + 273\n",
    "    print('Suhu', C ,'Celcius dikonversi menjadi:')\n",
    "    print(Ck, \"Kelvin\")\n",
    "\n",
    "def KtoC():\n",
    "    K = input('Masukan suhu kelvin: ')\n",
    "    K = int(K)\n",
    "    Kc = K - 273\n",
    "    print('Suhu', K ,'Kelvin dikonversi menjadi:')\n",
    "    print(Kc ,'Celcius')"
   ]
  },
  {
   "cell_type": "code",
   "execution_count": 5,
   "metadata": {},
   "outputs": [],
   "source": [
    "def FromFahrenheit():    \n",
    "    F = input('Masukan suhu Fahrenheit: ')\n",
    "    F = int(F)\n",
    "    print('Suhu', F ,'Fahrenheit dikonversi menjadi:')\n",
    "\n",
    "    Fc = (F-32)*5/9\n",
    "    print(Fc, 'Celcius')\n",
    "\n",
    "    Fr = (F-32)*4/9\n",
    "    print(Fr, 'Reamur')\n",
    "\n",
    "    Fk = Fc + 273\n",
    "    print(Fk, \"Kelvin\")\n",
    "\n"
   ]
  },
  {
   "cell_type": "code",
   "execution_count": 13,
   "metadata": {},
   "outputs": [],
   "source": [
    "def ToFahrenheit():\n",
    "    \n",
    "    K = input('Masukan suhu kelvin: ')\n",
    "    K = int(K)\n",
    "    print('Suhu', K ,'Kelvin dikonversi menjadi:')\n",
    "    Kc = K - 273   #Suhu Kelvin Dirubah ke Celcius terlebih dahulu\n",
    "    Kf = Kc*9/5 +32\n",
    "    print(Kf, 'Fahrenheit')\n",
    "\n",
    "\n",
    "\n",
    "    C = input('Masukan suhu celcius: ')\n",
    "    C = int(C)\n",
    "    print('Suhu', C ,'Celcius dikonversi menjadi:')\n",
    "    Cf = C*9/5 +32\n",
    "    print(Cf, 'Fahrenheit')\n",
    "\n",
    "    \n",
    "\n",
    "    R = input('Masukan suhu Reamur: ')\n",
    "    R = int(R)\n",
    "    print('Suhu', R ,'Reamur dikonversi menjadi:')\n",
    "    Rf = R*9/4 +32\n",
    "    print(Rf, 'Fahrenheit')\n",
    "\n",
    "    \n",
    "    "
   ]
  },
  {
   "cell_type": "code",
   "execution_count": 26,
   "metadata": {},
   "outputs": [
    {
     "name": "stdout",
     "output_type": "stream",
     "text": [
      "Choose one of thee function\n",
      " 1. Celcius to Kelvin \n",
      " 2. Kelvin to Celcius\n",
      " 3. From Fahrenheit to Everything \n",
      " 4. From Everything to Fahrenheit\n"
     ]
    },
    {
     "ename": "KeyboardInterrupt",
     "evalue": "Interrupted by user",
     "output_type": "error",
     "traceback": [
      "\u001b[1;31m---------------------------------------------------------------------------\u001b[0m",
      "\u001b[1;31mKeyboardInterrupt\u001b[0m                         Traceback (most recent call last)",
      "\u001b[1;32m<ipython-input-26-4eb8dd2b9bb7>\u001b[0m in \u001b[0;36m<module>\u001b[1;34m\u001b[0m\n\u001b[0;32m      9\u001b[0m     \u001b[0mFromFahrenheit\u001b[0m\u001b[1;33m(\u001b[0m\u001b[1;33m)\u001b[0m\u001b[1;33m\u001b[0m\u001b[1;33m\u001b[0m\u001b[0m\n\u001b[0;32m     10\u001b[0m \u001b[1;32melse\u001b[0m\u001b[1;33m:\u001b[0m\u001b[1;33m\u001b[0m\u001b[1;33m\u001b[0m\u001b[0m\n\u001b[1;32m---> 11\u001b[1;33m     \u001b[0mToFahrenheit\u001b[0m\u001b[1;33m(\u001b[0m\u001b[1;33m)\u001b[0m\u001b[1;33m\u001b[0m\u001b[1;33m\u001b[0m\u001b[0m\n\u001b[0m",
      "\u001b[1;32m<ipython-input-13-e6a52f5090a9>\u001b[0m in \u001b[0;36mToFahrenheit\u001b[1;34m()\u001b[0m\n\u001b[0;32m      1\u001b[0m \u001b[1;32mdef\u001b[0m \u001b[0mToFahrenheit\u001b[0m\u001b[1;33m(\u001b[0m\u001b[1;33m)\u001b[0m\u001b[1;33m:\u001b[0m\u001b[1;33m\u001b[0m\u001b[1;33m\u001b[0m\u001b[0m\n\u001b[0;32m      2\u001b[0m \u001b[1;33m\u001b[0m\u001b[0m\n\u001b[1;32m----> 3\u001b[1;33m     \u001b[0mK\u001b[0m \u001b[1;33m=\u001b[0m \u001b[0minput\u001b[0m\u001b[1;33m(\u001b[0m\u001b[1;34m'Masukan suhu kelvin: '\u001b[0m\u001b[1;33m)\u001b[0m\u001b[1;33m\u001b[0m\u001b[1;33m\u001b[0m\u001b[0m\n\u001b[0m\u001b[0;32m      4\u001b[0m     \u001b[0mK\u001b[0m \u001b[1;33m=\u001b[0m \u001b[0mint\u001b[0m\u001b[1;33m(\u001b[0m\u001b[0mK\u001b[0m\u001b[1;33m)\u001b[0m\u001b[1;33m\u001b[0m\u001b[1;33m\u001b[0m\u001b[0m\n\u001b[0;32m      5\u001b[0m     \u001b[0mprint\u001b[0m\u001b[1;33m(\u001b[0m\u001b[1;34m'Suhu'\u001b[0m\u001b[1;33m,\u001b[0m \u001b[0mK\u001b[0m \u001b[1;33m,\u001b[0m\u001b[1;34m'Kelvin dikonversi menjadi:'\u001b[0m\u001b[1;33m)\u001b[0m\u001b[1;33m\u001b[0m\u001b[1;33m\u001b[0m\u001b[0m\n",
      "\u001b[1;32mc:\\Users\\anzah\\anaconda3\\envs\\deeplearning\\lib\\site-packages\\ipykernel\\kernelbase.py\u001b[0m in \u001b[0;36mraw_input\u001b[1;34m(self, prompt)\u001b[0m\n\u001b[0;32m    861\u001b[0m             \u001b[0mself\u001b[0m\u001b[1;33m.\u001b[0m\u001b[0m_parent_ident\u001b[0m\u001b[1;33m,\u001b[0m\u001b[1;33m\u001b[0m\u001b[1;33m\u001b[0m\u001b[0m\n\u001b[0;32m    862\u001b[0m             \u001b[0mself\u001b[0m\u001b[1;33m.\u001b[0m\u001b[0m_parent_header\u001b[0m\u001b[1;33m,\u001b[0m\u001b[1;33m\u001b[0m\u001b[1;33m\u001b[0m\u001b[0m\n\u001b[1;32m--> 863\u001b[1;33m             \u001b[0mpassword\u001b[0m\u001b[1;33m=\u001b[0m\u001b[1;32mFalse\u001b[0m\u001b[1;33m,\u001b[0m\u001b[1;33m\u001b[0m\u001b[1;33m\u001b[0m\u001b[0m\n\u001b[0m\u001b[0;32m    864\u001b[0m         )\n\u001b[0;32m    865\u001b[0m \u001b[1;33m\u001b[0m\u001b[0m\n",
      "\u001b[1;32mc:\\Users\\anzah\\anaconda3\\envs\\deeplearning\\lib\\site-packages\\ipykernel\\kernelbase.py\u001b[0m in \u001b[0;36m_input_request\u001b[1;34m(self, prompt, ident, parent, password)\u001b[0m\n\u001b[0;32m    902\u001b[0m             \u001b[1;32mexcept\u001b[0m \u001b[0mKeyboardInterrupt\u001b[0m\u001b[1;33m:\u001b[0m\u001b[1;33m\u001b[0m\u001b[1;33m\u001b[0m\u001b[0m\n\u001b[0;32m    903\u001b[0m                 \u001b[1;31m# re-raise KeyboardInterrupt, to truncate traceback\u001b[0m\u001b[1;33m\u001b[0m\u001b[1;33m\u001b[0m\u001b[1;33m\u001b[0m\u001b[0m\n\u001b[1;32m--> 904\u001b[1;33m                 \u001b[1;32mraise\u001b[0m \u001b[0mKeyboardInterrupt\u001b[0m\u001b[1;33m(\u001b[0m\u001b[1;34m\"Interrupted by user\"\u001b[0m\u001b[1;33m)\u001b[0m \u001b[1;32mfrom\u001b[0m \u001b[1;32mNone\u001b[0m\u001b[1;33m\u001b[0m\u001b[1;33m\u001b[0m\u001b[0m\n\u001b[0m\u001b[0;32m    905\u001b[0m             \u001b[1;32mexcept\u001b[0m \u001b[0mException\u001b[0m \u001b[1;32mas\u001b[0m \u001b[0me\u001b[0m\u001b[1;33m:\u001b[0m\u001b[1;33m\u001b[0m\u001b[1;33m\u001b[0m\u001b[0m\n\u001b[0;32m    906\u001b[0m                 \u001b[0mself\u001b[0m\u001b[1;33m.\u001b[0m\u001b[0mlog\u001b[0m\u001b[1;33m.\u001b[0m\u001b[0mwarning\u001b[0m\u001b[1;33m(\u001b[0m\u001b[1;34m\"Invalid Message:\"\u001b[0m\u001b[1;33m,\u001b[0m \u001b[0mexc_info\u001b[0m\u001b[1;33m=\u001b[0m\u001b[1;32mTrue\u001b[0m\u001b[1;33m)\u001b[0m\u001b[1;33m\u001b[0m\u001b[1;33m\u001b[0m\u001b[0m\n",
      "\u001b[1;31mKeyboardInterrupt\u001b[0m: Interrupted by user"
     ]
    }
   ],
   "source": [
    "print(\"Choose one of thee function\\n 1. Celcius to Kelvin \\n 2. Kelvin to Celcius\\n 3. From Fahrenheit to Everything \\n 4. From Everything to Fahrenheit\")\n",
    "X = input(\"\")\n",
    "\n",
    "if X == 1:\n",
    "    CtoK()\n",
    "elif X == 2:\n",
    "    KtoC()\n",
    "elif X == 3:\n",
    "    FromFahrenheit()\n",
    "else:\n",
    "    ToFahrenheit()"
   ]
  },
  {
   "cell_type": "code",
   "execution_count": 17,
   "metadata": {},
   "outputs": [
    {
     "name": "stdout",
     "output_type": "stream",
     "text": [
      "Suhu 97 Fahrenheit dikonversi menjadi:\n",
      "36.111111111111114 Celcius\n",
      "28.88888888888889 Reamur\n",
      "309.1111111111111 Kelvin\n"
     ]
    }
   ],
   "source": [
    "# F = input('Masukan suhu Fahrenheit: ')\n",
    "# F = int(F)\n",
    "\n",
    "# print('Suhu', F ,'Fahrenheit dikonversi menjadi:')\n",
    "\n",
    "# #-> celcius\n",
    "# Fc = (F-32)*5/9\n",
    "# print(Fc, 'Celcius')\n",
    "\n",
    "# #-> reamur\n",
    "# Fr = (F-32)*4/9\n",
    "# print(Fr, 'Reamur')\n",
    "\n",
    "# #-> Kelvin\n",
    "# Fk = Fc + 273\n",
    "# print(Fk, \"Kelvin\")"
   ]
  },
  {
   "cell_type": "code",
   "execution_count": 15,
   "metadata": {},
   "outputs": [
    {
     "name": "stdout",
     "output_type": "stream",
     "text": [
      "Suhu 373 Kelvin dikonversi menjadi:\n",
      "100 Celcius\n",
      "80.0 Reamur\n",
      "212.0 Fahrenheit\n"
     ]
    }
   ],
   "source": [
    "# K = input('Masukan suhu kelvin: ')\n",
    "# K = int(K)\n",
    "\n",
    "# print('Suhu', K ,'Celcius dikonversi menjadi:')\n",
    "\n",
    "\n",
    "\n",
    "# #-> celcius \n",
    "# Kc = K - 273\n",
    "# print(Kc ,'Celcius')\n",
    "\n",
    "# #-> Reamur\n",
    "# Kr = (K-273)*4/5\n",
    "# print(Kr, 'Reamur')\n",
    "\n",
    "# #-> Fahrenheit\n",
    "# Kf = Kc*9/5 +32\n",
    "# print(Kf, 'Fahrenheit')\n"
   ]
  },
  {
   "cell_type": "code",
   "execution_count": 13,
   "metadata": {},
   "outputs": [
    {
     "name": "stdout",
     "output_type": "stream",
     "text": [
      "Suhu 30 Celcius dikonversi menjadi :\n",
      "24.0 Reamur\n",
      "86.0 Fahrenheit\n",
      "303 Kelvin\n"
     ]
    }
   ],
   "source": [
    "# C = input('Masukan suhu celcius: ')\n",
    "# C = int(C)\n",
    "\n",
    "# print('Suhu', C ,'Celcius dikonversi menjadi:')\n",
    "\n",
    "# #-> reamur\n",
    "# Cr = C*4/5\n",
    "# print(Cr, 'Reamur')\n",
    "\n",
    "# #-> Fahrenheit\n",
    "# Cf = C*9/5 +32\n",
    "# print(Cf, 'Fahrenheit')\n",
    "\n",
    "# #-> Kelvin\n",
    "# Ck= C + 273\n",
    "# print(Ck, \"Kelvin\")"
   ]
  },
  {
   "cell_type": "code",
   "execution_count": null,
   "metadata": {},
   "outputs": [],
   "source": [
    "# R = input('Masukan suhu Reamur: ')\n",
    "# R = int(R)\n",
    "\n",
    "# print('Suhu', R ,'Reamur dikonversi menjadi:')\n",
    "\n",
    "# #-> celcius\n",
    "# Rc = C*5/4\n",
    "# print(Rc, 'Celcius')\n",
    "\n",
    "# #-> Fahrenheit\n",
    "# Rf = R*9/4 +32\n",
    "# print(Rf, 'Fahrenheit')\n",
    "\n",
    "# #-> Kelvin\n",
    "# Rk= R*5/4 + 273\n",
    "# print(Rk, \"Kelvin\")"
   ]
  }
 ],
 "metadata": {
  "kernelspec": {
   "display_name": "Python 3.7.1 ('deeplearning')",
   "language": "python",
   "name": "python3"
  },
  "language_info": {
   "codemirror_mode": {
    "name": "ipython",
    "version": 3
   },
   "file_extension": ".py",
   "mimetype": "text/x-python",
   "name": "python",
   "nbconvert_exporter": "python",
   "pygments_lexer": "ipython3",
   "version": "3.7.1"
  },
  "orig_nbformat": 4,
  "vscode": {
   "interpreter": {
    "hash": "aac25974d5ed4a18ee49049139df80e54beb72405f088cd77b373fbf5bdf8f13"
   }
  }
 },
 "nbformat": 4,
 "nbformat_minor": 2
}
